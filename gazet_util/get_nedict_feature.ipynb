{
 "metadata": {
  "language_info": {
   "codemirror_mode": {
    "name": "ipython",
    "version": 3
   },
   "file_extension": ".py",
   "mimetype": "text/x-python",
   "name": "python",
   "nbconvert_exporter": "python",
   "pygments_lexer": "ipython3",
   "version": "3.8.3-final"
  },
  "orig_nbformat": 2,
  "kernelspec": {
   "name": "python3",
   "display_name": "Python 3"
  }
 },
 "nbformat": 4,
 "nbformat_minor": 2,
 "cells": [
  {
   "cell_type": "code",
   "execution_count": 1,
   "metadata": {},
   "outputs": [],
   "source": [
    "import gazet_util as gazet\n",
    "\n",
    "config = {\n",
    "          \"train_file\":\"data/ner_train.txt\",\n",
    "          \"dev_file\": \"data/ner_dev.txt\",\n",
    "          \"word_vocab_file\":\"data/vocab.txt\",\n",
    "          \"tag_vocab_file\":\"data/tag_vocab.txt\",\n",
    "          \"root_dir\" : \"../\",\n",
    "          \"gazet_file\":\"data/gazette.txt\",\n",
    "          \"max_morphs\" : 400,\n",
    "          ##### token file name ####\n",
    "          \"token_file\" : \"dev_token.pickle\"\n",
    "          }\n",
    "gazet = gazet.gazet(config)\n",
    "gazet.get_nedict_pickle(\"fuck.pickle\")"
   ]
  }
 ]
}