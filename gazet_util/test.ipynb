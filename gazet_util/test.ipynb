{
 "metadata": {
  "language_info": {
   "codemirror_mode": {
    "name": "ipython",
    "version": 3
   },
   "file_extension": ".py",
   "mimetype": "text/x-python",
   "name": "python",
   "nbconvert_exporter": "python",
   "pygments_lexer": "ipython3",
   "version": "3.8.3-final"
  },
  "orig_nbformat": 2,
  "kernelspec": {
   "name": "python3",
   "display_name": "Python 3"
  }
 },
 "nbformat": 4,
 "nbformat_minor": 2,
 "cells": [
  {
   "cell_type": "code",
   "execution_count": 9,
   "metadata": {},
   "outputs": [],
   "source": [
    "import gazet_util as gazet\n",
    "from tqdm import tqdm"
   ]
  },
  {
   "cell_type": "code",
   "execution_count": 10,
   "metadata": {},
   "outputs": [],
   "source": [
    "import pickle\n",
    "def get_list_from_pkl(pkl_path):\n",
    "    with open(pkl_path,\"rb\") as fr:\n",
    "        return pickle.load(fr)"
   ]
  },
  {
   "cell_type": "code",
   "execution_count": 11,
   "metadata": {},
   "outputs": [],
   "source": [
    "morphs_list = get_list_from_pkl(\"../data/train_token_1124.pickle\")"
   ]
  },
  {
   "cell_type": "code",
   "execution_count": 12,
   "metadata": {},
   "outputs": [],
   "source": [
    "root_dir = \"../\"\n",
    "import os\n",
    "if(__name__==\"__main__\"):\n",
    "    output_dir = os.path.join(root_dir, \"output\")\n",
    "    if not os.path.exists(output_dir):\n",
    "        os.makedirs(output_dir)\n",
    "\n",
    "    config = {\"mode\": \"train\",\n",
    "              \"train_file\":\"data/ner_train.txt\",\n",
    "              \"dev_file\": \"data/ner_dev.txt\",\n",
    "              \"word_vocab_file\":\"data/vocab.txt\",\n",
    "              \"tag_vocab_file\":\"data/tag_vocab.txt\",\n",
    "              \"trained_model_name\":\"epoch_{}.pt\".format(5),\n",
    "              \"output_dir_path\":output_dir,\n",
    "              \"word_vocab_size\":2160,\n",
    "              \"number_of_tags\": 14,\n",
    "              \"hidden_size\": 100,\n",
    "              \"dropout\":0.2,\n",
    "              \"embedding_size\":100,\n",
    "              \"max_length\": 120,\n",
    "              \"batch_size\":64,\n",
    "              \"epoch\":20,\n",
    "              \"root_dir\" : \"../\",\n",
    "              \"gazet_file\":\"data/gazette.txt\",\n",
    "              \"max_morphs\" : 10\n",
    "              }\n",
    "    gazet = gazet.gazet(config)\n",
    "    feature_tensor = gazet.get_tensor(morphs_list)"
   ]
  },
  {
   "cell_type": "code",
   "execution_count": 14,
   "metadata": {},
   "outputs": [
    {
     "output_type": "stream",
     "name": "stdout",
     "text": [
      "torch.Size([7314, 10, 5])\n"
     ]
    }
   ],
   "source": [
    "print(feature_tensor.shape)\n",
    "# [train_data, max_morphs, tag]"
   ]
  },
  {
   "cell_type": "code",
   "execution_count": 16,
   "metadata": {},
   "outputs": [
    {
     "output_type": "stream",
     "name": "stdout",
     "text": [
      "(7314,)\n"
     ]
    }
   ],
   "source": [
    "import numpy as np\n",
    "print(np.shape(morphs_list)) # pickle에서 뽑아온거."
   ]
  },
  {
   "cell_type": "code",
   "execution_count": 5,
   "metadata": {},
   "outputs": [
    {
     "output_type": "execute_result",
     "data": {
      "text/plain": [
       "['이',\n",
       " '롯데',\n",
       " '억원',\n",
       " '들이어',\n",
       " '제빵',\n",
       " '업체',\n",
       " '이',\n",
       " 'ㄴ',\n",
       " '기린',\n",
       " '인수하았고',\n",
       " '해태음료',\n",
       " '안성',\n",
       " '공장',\n",
       " '인수',\n",
       " '하',\n",
       " '았',\n",
       " '다']"
      ]
     },
     "metadata": {},
     "execution_count": 5
    }
   ],
   "source": [
    "morphs_list[9]"
   ]
  },
  {
   "cell_type": "code",
   "execution_count": 6,
   "metadata": {},
   "outputs": [
    {
     "output_type": "execute_result",
     "data": {
      "text/plain": [
       "tensor([[0, 1, 0, 0, 0],\n",
       "        [0, 0, 1, 0, 0],\n",
       "        [0, 0, 0, 0, 0],\n",
       "        [0, 0, 0, 0, 0],\n",
       "        [0, 0, 0, 0, 0],\n",
       "        [0, 0, 0, 0, 0],\n",
       "        [0, 0, 0, 0, 0],\n",
       "        [0, 0, 0, 0, 0],\n",
       "        [0, 0, 0, 0, 0],\n",
       "        [0, 0, 0, 0, 0]])"
      ]
     },
     "metadata": {},
     "execution_count": 6
    }
   ],
   "source": [
    "feature_tensor[9]\n",
    "# 이  PS\n",
    "# 롯데  OG"
   ]
  }
 ]
}