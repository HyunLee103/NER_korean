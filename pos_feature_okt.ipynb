{
 "metadata": {
  "language_info": {
   "codemirror_mode": {
    "name": "ipython",
    "version": 3
   },
   "file_extension": ".py",
   "mimetype": "text/x-python",
   "name": "python",
   "nbconvert_exporter": "python",
   "pygments_lexer": "ipython3",
   "version": "3.8.3-final"
  },
  "orig_nbformat": 2,
  "kernelspec": {
   "name": "python3",
   "display_name": "Python 3"
  }
 },
 "nbformat": 4,
 "nbformat_minor": 2,
 "cells": [
  {
   "source": [
    "Data 불러와서 나누기"
   ],
   "cell_type": "markdown",
   "metadata": {}
  },
  {
   "cell_type": "code",
   "execution_count": 203,
   "metadata": {},
   "outputs": [],
   "source": [
    "import pickle\n",
    "with open('./data/train_token.pickle', 'rb') as fs:\n",
    "    train_token = pickle.load(fs)\n",
    "\n",
    "with open('./data/dev_token.pickle', 'rb') as fs:\n",
    "    dev_token = pickle.load(fs)"
   ]
  },
  {
   "source": [
    "Data 탐색"
   ],
   "cell_type": "markdown",
   "metadata": {}
  },
  {
   "source": [
    "데이터 복원 & 형태소 분석과 pos tagging"
   ],
   "cell_type": "markdown",
   "metadata": {}
  },
  {
   "cell_type": "code",
   "execution_count": 313,
   "metadata": {},
   "outputs": [],
   "source": [
    "# from eunjeon import Mecab\n",
    "# mecab = Mecab()\n",
    "from konlpy.tag import Okt\n",
    "okt = Okt()\n",
    "\n",
    "doPos = lambda x: okt.pos(x)\n",
    "train_sentence = list(map(' '.join, train_token))\n",
    "dev_sentence = list(map(' '.join, dev_token))\n",
    "\n",
    "# Pos tagging\n",
    "pos_train = list(map(doPos, train_sentence))\n",
    "pos_dev = list(map(doPos, dev_sentence))\n",
    "\n",
    "# Token 만들기 \n",
    "getPos = lambda x: [pos for morph, pos in x]\n",
    "train_pos = list(map(getPos, pos_train))\n",
    "train_dev = list(map(getPos, pos_dev))"
   ]
  },
  {
   "cell_type": "code",
   "execution_count": 282,
   "metadata": {},
   "outputs": [],
   "source": [
    "with open('pos_train.pickle', 'wb') as fs:\n",
    "    pickle.dump(pos_train, fs)\n",
    "with open('pos_dev.pickle', 'wb') as fs:\n",
    "    pickle.dump(pos_dev, fs)"
   ]
  },
  {
   "source": [
    "B / I tagging 하기"
   ],
   "cell_type": "markdown",
   "metadata": {}
  },
  {
   "source": [
    "pos_vocab 만들기"
   ],
   "cell_type": "markdown",
   "metadata": {}
  },
  {
   "cell_type": "code",
   "execution_count": 377,
   "metadata": {},
   "outputs": [],
   "source": [
    "import pickle \n",
    "with open('./data/train_tag.pickle', 'rb') as fs:\n",
    "    train_tag = pickle.load(fs)\n",
    "with open('./data/dev_tag.pickle', 'rb') as fs:\n",
    "    dev_tag = pickle.load(fs)"
   ]
  },
  {
   "source": [],
   "cell_type": "markdown",
   "metadata": {}
  },
  {
   "cell_type": "code",
   "execution_count": 397,
   "metadata": {},
   "outputs": [],
   "source": [
    "pos_vocab = ['Noun', 'Verb', 'Adjective', 'Determiner', 'Adverb', 'Conjunction', 'Exclamation', 'Josa', 'PreEomi', 'Eomi', 'Suffix', 'Punctuation', 'Foreign', 'Alpha', 'Number', 'Unknown', 'KoreanParticle', 'Hashtag', 'ScreenName', 'Email', 'URL']\n",
    "\n",
    "# train, dev 데이터에서 품사 집합 구해서 pos_vocab에 추가\n",
    "pos_set_train = set([y for x in train_pos for y in x])\n",
    "pos_set_dev = set([y for x in train_dev for y in x])\n",
    "\n",
    "pos_set = list(pos_set_train | pos_set_dev)\n",
    "\n",
    "pos_vocab = sorted(list(set(pos_vocab) | set(pos_set)))"
   ]
  },
  {
   "source": [
    "One_hot 벡터 만들기"
   ],
   "cell_type": "markdown",
   "metadata": {}
  },
  {
   "cell_type": "code",
   "execution_count": 379,
   "metadata": {},
   "outputs": [],
   "source": [
    "import numpy as np\n",
    "\n",
    "def posOnehot(sentence):\n",
    "    onehot_list = []\n",
    "    for word in sentence:\n",
    "        onehot = np.zeros(len(pos_vocab))\n",
    "        ind = pos_vocab.index(word)\n",
    "        onehot[ind] += 1 \n",
    "            \n",
    "        onehot_list.append(onehot)\n",
    "    return onehot_list\n",
    "\n",
    "train_onehot = list(map(posOnehot, train_pos))\n",
    "dev_onehot = list(map(posOnehot, train_dev))"
   ]
  },
  {
   "cell_type": "code",
   "execution_count": 383,
   "metadata": {},
   "outputs": [],
   "source": [
    "def makePosDict(token, key_list, onehot_vector):\n",
    "    output = {}\n",
    "    for i, sentence in enumerate(token):\n",
    "        for j, word in enumerate(sentence):\n",
    "            key = key_list[key_list.index(word)]\n",
    "            output[key] = onehot_vector[i][j]\n",
    "    return output\n",
    "\n",
    "key_list_train = list(set([y for x in train_token for y in x]))\n",
    "key_list_dev = list(set([y for x in dev_token for y in x]))\n",
    "\n",
    "train_dict = makePosDict(train_token, key_list_train, train_onehot)\n",
    "dev_dict = makePosDict(dev_token, key_list_dev, dev_onehot) "
   ]
  },
  {
   "cell_type": "code",
   "execution_count": 392,
   "metadata": {
    "tags": []
   },
   "outputs": [],
   "source": [
    "with open('train_dict.pickle', 'wb') as fs:\n",
    "    pickle.dump(train_dict, fs)\n",
    "with open('dev_dict.pickle', 'wb') as fs:\n",
    "    pickle.dump(dev_dict, fs)"
   ]
  }
 ]
}