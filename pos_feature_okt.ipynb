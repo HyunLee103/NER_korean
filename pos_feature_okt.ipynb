{
 "metadata": {
  "language_info": {
   "codemirror_mode": {
    "name": "ipython",
    "version": 3
   },
   "file_extension": ".py",
   "mimetype": "text/x-python",
   "name": "python",
   "nbconvert_exporter": "python",
   "pygments_lexer": "ipython3",
   "version": "3.8.3-final"
  },
  "orig_nbformat": 2,
  "kernelspec": {
   "name": "python3",
   "display_name": "Python 3"
  }
 },
 "nbformat": 4,
 "nbformat_minor": 2,
 "cells": [
  {
   "source": [
    "Data 불러와서 나누기"
   ],
   "cell_type": "markdown",
   "metadata": {}
  },
  {
   "cell_type": "code",
   "execution_count": 148,
   "metadata": {},
   "outputs": [],
   "source": [
    "import pickle\n",
    "with open('./data/train_token.pickle', 'rb') as fs:\n",
    "    train_token = pickle.load(fs)\n",
    "\n",
    "with open('./data/dev_token.pickle', 'rb') as fs:\n",
    "    dev_token = pickle.load(fs)"
   ]
  },
  {
   "source": [
    "Data 탐색"
   ],
   "cell_type": "markdown",
   "metadata": {}
  },
  {
   "source": [
    "데이터 복원 & 형태소 분석과 pos tagging"
   ],
   "cell_type": "markdown",
   "metadata": {}
  },
  {
   "cell_type": "code",
   "execution_count": 181,
   "metadata": {},
   "outputs": [],
   "source": [
    "# from eunjeon import Mecab\n",
    "# mecab = Mecab()\n",
    "from konlpy.tag import Okt\n",
    "okt = Okt()\n",
    "\n",
    "doPos = lambda x: okt.pos(x)\n",
    "\n",
    "train_sentence = list(map(' '.join, train_token))\n",
    "dev_sentence = list(map(' '.join, dev_token))\n",
    "\n",
    "pos_train = list(map(doPos, train_sentence))\n",
    "pos_dev = list(map(doPos, dev_sentence))"
   ]
  },
  {
   "cell_type": "code",
   "execution_count": 150,
   "metadata": {},
   "outputs": [
    {
     "output_type": "execute_result",
     "data": {
      "text/plain": [
       "[('6일', 'Number'),\n",
       " ('유통업', 'Noun'),\n",
       " ('계', 'Suffix'),\n",
       " ('와', 'Josa'),\n",
       " ('정유', 'Noun'),\n",
       " ('업계', 'Noun'),\n",
       " ('에', 'Josa'),\n",
       " ('따르면', 'Verb'),\n",
       " ('‘', 'Foreign'),\n",
       " ('이마트', 'Noun'),\n",
       " ('-', 'Punctuation'),\n",
       " ('SK', 'Alpha'),\n",
       " ('’', 'Punctuation'),\n",
       " ('간판', 'Noun'),\n",
       " ('을', 'Josa'),\n",
       " ('내', 'Determiner'),\n",
       " ('걸', 'Noun'),\n",
       " ('ㄴ', 'KoreanParticle'),\n",
       " ('주유소', 'Noun'),\n",
       " ('가', 'Josa'),\n",
       " ('올해', 'Noun'),\n",
       " ('안', 'Noun'),\n",
       " ('에', 'Josa'),\n",
       " ('등장', 'Noun'),\n",
       " ('하', 'Suffix'),\n",
       " ('ㄹ', 'KoreanParticle'),\n",
       " ('것', 'Noun'),\n",
       " ('이', 'Josa'),\n",
       " ('확', 'Noun'),\n",
       " ('실시', 'Noun'),\n",
       " ('되자', 'Verb'),\n",
       " ('이마트', 'Noun'),\n",
       " ('와', 'Josa'),\n",
       " ('경쟁', 'Noun'),\n",
       " ('관계', 'Noun'),\n",
       " ('에', 'Josa'),\n",
       " ('있는', 'Adjective'),\n",
       " ('롯데', 'Noun'),\n",
       " ('마트', 'Noun'),\n",
       " ('홈플러스', 'Noun'),\n",
       " ('등', 'Noun'),\n",
       " ('다른', 'Noun'),\n",
       " ('대형', 'Noun'),\n",
       " ('마트', 'Noun'),\n",
       " ('도', 'Josa'),\n",
       " ('매장', 'Noun'),\n",
       " ('내', 'Noun'),\n",
       " ('주유소', 'Noun'),\n",
       " ('설립', 'Noun'),\n",
       " ('을', 'Josa'),\n",
       " ('위', 'Noun'),\n",
       " ('하', 'Suffix'),\n",
       " ('아', 'Josa'),\n",
       " ('정유', 'Noun'),\n",
       " ('사와', 'Verb'),\n",
       " ('물밑', 'Noun'),\n",
       " ('에서', 'Josa'),\n",
       " ('활발하게', 'Adjective'),\n",
       " ('접촉', 'Noun'),\n",
       " ('하고', 'Josa'),\n",
       " ('있다', 'Adjective'),\n",
       " ('.', 'Punctuation')]"
      ]
     },
     "metadata": {},
     "execution_count": 150
    }
   ],
   "source": [
    "pos_train[0]\n",
    "pos_dev[0]"
   ]
  },
  {
   "source": [
    "B / I tagging 하기"
   ],
   "cell_type": "markdown",
   "metadata": {}
  },
  {
   "cell_type": "code",
   "execution_count": 153,
   "metadata": {},
   "outputs": [],
   "source": [
    "def biPosTagging(lst):\n",
    "    output = []\n",
    "    for morph, pos in lst:\n",
    "        B = \"B_\" + pos\n",
    "        output.append(B)\n",
    "        for i in range(1,len(morph)):\n",
    "            I = \"I_\" + pos\n",
    "            output.append(I)\n",
    "    return output\n",
    "\n",
    "bi_pos_train = []\n",
    "bi_pos_dev = []\n",
    "\n",
    "for lst in pos_train:\n",
    "    bi_pos_train.append(biPosTagging(lst))\n",
    "\n",
    "for lst in pos_dev:\n",
    "    bi_pos_dev.append(biPosTagging(lst))"
   ]
  },
  {
   "cell_type": "code",
   "execution_count": 154,
   "metadata": {},
   "outputs": [],
   "source": [
    "import pickle \n",
    "with open('./data/train_tag.pickle', 'rb') as fs:\n",
    "    train_tag = pickle.load(fs)\n",
    "with open('./data/dev_tag.pickle', 'rb') as fs:\n",
    "    dev_tag = pickle.load(fs)"
   ]
  },
  {
   "cell_type": "code",
   "execution_count": 155,
   "metadata": {},
   "outputs": [
    {
     "output_type": "error",
     "ename": "SyntaxError",
     "evalue": "unexpected EOF while parsing (<ipython-input-155-eec8141e2986>, line 5)",
     "traceback": [
      "\u001b[1;36m  File \u001b[1;32m\"<ipython-input-155-eec8141e2986>\"\u001b[1;36m, line \u001b[1;32m5\u001b[0m\n\u001b[1;33m    print(dev_tag[0]\u001b[0m\n\u001b[1;37m                    ^\u001b[0m\n\u001b[1;31mSyntaxError\u001b[0m\u001b[1;31m:\u001b[0m unexpected EOF while parsing\n"
     ]
    }
   ],
   "source": [
    "print(bi_pos_train[0])\n",
    "print(train_tag[0])\n",
    "\n",
    "print(bi_pos_dev[0])\n",
    "print(dev_tag[0]"
   ]
  },
  {
   "source": [
    "pos_vocab 만들기"
   ],
   "cell_type": "markdown",
   "metadata": {}
  },
  {
   "cell_type": "code",
   "execution_count": null,
   "metadata": {},
   "outputs": [],
   "source": [
    "# pos_vocab for mecab\n",
    "# pos_vocab = ['NNG','NNP','NNB','NNBC','NR','NP','VV','VA','VX','VCP','VCN','MM','MAG','MAJ','IC','JKS','JKC','JKG','JKO','JKB','JKV','JKQ','JX','JC','EP','EF','EC','ETN','ETM','XPN','XSN','XSV','XSA','XR','SF','SE','SSO','SSC','SC','SY','SL','SH','SN']"
   ]
  },
  {
   "cell_type": "code",
   "execution_count": null,
   "metadata": {},
   "outputs": [],
   "source": [
    "# pos_vocab for Okt\n",
    "pos_vocab = ['Noun', 'Verb', 'Adjective', 'Determiner', 'Adverb', 'Conjunction', 'Exclamation', 'Josa', 'PreEomi', 'Eomi', 'Suffix', 'Punctuation', 'Foreign', 'Alpha', 'Number', 'Unknown', 'KoreanParticle', 'Hashtag', 'ScreenName', 'Email', 'URL']\n",
    "# B-I tagging 하기\n",
    "bi_pos_vocab = []\n",
    "for pos in pos_vocab:\n",
    "    B = 'B_' + pos \n",
    "    I = 'I_' + pos \n",
    "    bi_pos_vocab.append(B)\n",
    "    bi_pos_vocab.append(I)\n",
    "\n",
    "# train, dev 데이터에서 품사 집합 구해서 pos_vocab에 추가\n",
    "pos_set_train = set([y for x in bi_pos_train for y in x])\n",
    "pos_set_dev = set([y for x in bi_pos_dev for y in x])\n",
    "\n",
    "pos_set = list(pos_set_train | pos_set_dev)\n",
    "\n",
    "bi_pos_vocab = sorted(list(set(bi_pos_vocab) | set(pos_set)))\n",
    "bi_pos_vocab.append('I_VerbPrefix')"
   ]
  },
  {
   "cell_type": "code",
   "execution_count": null,
   "metadata": {},
   "outputs": [],
   "source": [
    "# pos_vocab 저장하기\n",
    "with open('./data/pos_vocab.txt', 'w') as fs:\n",
    "    fs.write('\\n'.join((bi_pos_vocab)))"
   ]
  },
  {
   "source": [
    "One_hot 벡터 만들기"
   ],
   "cell_type": "markdown",
   "metadata": {}
  },
  {
   "cell_type": "code",
   "execution_count": null,
   "metadata": {},
   "outputs": [],
   "source": [
    "import numpy as np\n",
    "\n",
    "def posOnehot(sentence):\n",
    "    output = []\n",
    "\n",
    "    for word in sentence:\n",
    "        onehot = np.zeros(len(bi_pos_vocab))\n",
    "        index = bi_pos_vocab.index(word)\n",
    "        onehot[index] += 1 \n",
    "        output.append(onehot)\n",
    "\n",
    "    return output\n",
    "\n",
    "train_onehot = list(map(posOnehot, bi_pos_train))\n",
    "dev_onehot = list(map(posOnehot, bi_pos_dev))"
   ]
  },
  {
   "cell_type": "code",
   "execution_count": 183,
   "metadata": {},
   "outputs": [],
   "source": [
    "with open('./data/train_onehot.pickle', 'wb') as fs:\n",
    "    pickle.dump(train_onehot, fs)\n",
    "\n",
    "with open('./data/dev_onehot.pickle', 'wb') as fs:\n",
    "    pickle.dump(dev_onehot, fs)"
   ]
  }
 ]
}