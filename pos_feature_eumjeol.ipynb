{
 "metadata": {
  "language_info": {
   "codemirror_mode": {
    "name": "ipython",
    "version": 3
   },
   "file_extension": ".py",
   "mimetype": "text/x-python",
   "name": "python",
   "nbconvert_exporter": "python",
   "pygments_lexer": "ipython3",
   "version": 3
  },
  "orig_nbformat": 2
 },
 "nbformat": 4,
 "nbformat_minor": 2,
 "cells": [
  {
   "cell_type": "code",
   "execution_count": null,
   "metadata": {},
   "outputs": [],
   "source": [
    "import pickle\n",
    "with open('./data/train_token.pickle', 'rb') as fs:\n",
    "    train_token = pickle.load(fs)\n",
    "\n",
    "with open('./data/dev_token.pickle', 'rb') as fs:\n",
    "    dev_token = pickle.load(fs)"
   ]
  },
  {
   "cell_type": "code",
   "execution_count": null,
   "metadata": {},
   "outputs": [],
   "source": [
    "from konlpy.tag import Okt\n",
    "okt = Okt()\n",
    "\n",
    "doPos = lambda x: okt.pos(x)\n",
    "train_sentence = list(map(' '.join, train_token))\n",
    "dev_sentence = list(map(' '.join, dev_token))\n",
    "\n",
    "# Pos tagging\n",
    "pos_train = list(map(doPos, train_sentence))\n",
    "pos_dev = list(map(doPos, dev_sentence))\n",
    "\n",
    "# Token 만들기 \n",
    "getPos = lambda x: [pos for morph, pos in x]\n",
    "train_pos = list(map(getPos, pos_train))\n",
    "train_dev = list(map(getPos, pos_dev))"
   ]
  },
  {
   "cell_type": "code",
   "execution_count": null,
   "metadata": {},
   "outputs": [],
   "source": [
    "def biPosTagging(lst):\n",
    "    output = []\n",
    "    for morph, pos in lst:\n",
    "        B = \"B_\" + pos\n",
    "        output.append(B)\n",
    "        for i in range(1,len(morph)):\n",
    "            I = \"I_\" + pos\n",
    "            output.append(I)\n",
    "    return output\n",
    "\n",
    "bi_pos_train = []\n",
    "bi_pos_dev = []\n",
    "\n",
    "for lst in pos_train:\n",
    "    bi_pos_train.append(biPosTagging(lst))\n",
    "\n",
    "for lst in pos_dev:\n",
    "    bi_pos_dev.append(biPosTagging(lst))"
   ]
  },
  {
   "cell_type": "code",
   "execution_count": null,
   "metadata": {},
   "outputs": [],
   "source": [
    "# pos_vocab for Okt\n",
    "pos_vocab = ['Noun', 'Verb', 'Adjective', 'Determiner', 'Adverb', 'Conjunction', 'Exclamation', 'Josa', 'PreEomi', 'Eomi', 'Suffix', 'Punctuation', 'Foreign', 'Alpha', 'Number', 'Unknown', 'KoreanParticle', 'Hashtag', 'ScreenName', 'Email', 'URL']\n",
    "# B-I tagging 하기\n",
    "bi_pos_vocab = []\n",
    "for pos in pos_vocab:\n",
    "    B = 'B_' + pos \n",
    "    I = 'I_' + pos \n",
    "    bi_pos_vocab.append(B)\n",
    "    bi_pos_vocab.append(I)\n",
    "\n",
    "# train, dev 데이터에서 품사 집합 구해서 pos_vocab에 추가\n",
    "pos_set_train = set([y for x in bi_pos_train for y in x])\n",
    "pos_set_dev = set([y for x in bi_pos_dev for y in x])\n",
    "\n",
    "pos_set = list(pos_set_train | pos_set_dev)\n",
    "\n",
    "bi_pos_vocab = sorted(list(set(bi_pos_vocab) | set(pos_set)))\n",
    "bi_pos_vocab.append('I_VerbPrefix')"
   ]
  },
  {
   "cell_type": "code",
   "execution_count": null,
   "metadata": {},
   "outputs": [],
   "source": [
    "# pos_vocab 저장하기\n",
    "with open('./data/pos_vocab.txt', 'r') as fs:\n",
    "    fs.write('\\n'.join((bi_pos_vocab)))"
   ]
  },
  {
   "cell_type": "code",
   "execution_count": null,
   "metadata": {},
   "outputs": [],
   "source": [
    "import pickle \n",
    "with open('./data/train_tag.pickle', 'rb') as fs:\n",
    "    train_tag = pickle.load(fs)\n",
    "with open('./data/dev_tag.pickle', 'rb') as fs:\n",
    "    dev_tag = pickle.load(fs)"
   ]
  }
 ]
}