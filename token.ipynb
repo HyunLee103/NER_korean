{
 "metadata": {
  "language_info": {
   "codemirror_mode": {
    "name": "ipython",
    "version": 3
   },
   "file_extension": ".py",
   "mimetype": "text/x-python",
   "name": "python",
   "nbconvert_exporter": "python",
   "pygments_lexer": "ipython3",
   "version": "3.8.3-final"
  },
  "orig_nbformat": 2,
  "kernelspec": {
   "name": "python3",
   "display_name": "Python 3"
  }
 },
 "nbformat": 4,
 "nbformat_minor": 2,
 "cells": [
  {
   "source": [
    "Test token & tags 만들기\n"
   ],
   "cell_type": "markdown",
   "metadata": {}
  },
  {
   "cell_type": "code",
   "execution_count": 21,
   "metadata": {},
   "outputs": [],
   "source": [
    "\n",
    "# 토큰 만드는 함수\n",
    "from tqdm import tqdm\n",
    "from konlpy.tag import Okt\n",
    "okt = Okt()\n",
    "\n",
    "def getToken(file):\n",
    "    with open(file, 'r', encoding='utf-8') as fs:\n",
    "        total_data = fs.readlines()\n",
    "\n",
    "    sentences = []\n",
    "    tags = []\n",
    "    for data in tqdm(total_data):\n",
    "        try:\n",
    "            id, sentence, tag = data.rstrip('\\n').split('\\t')\n",
    "        except:\n",
    "            id, sentence = data.rstrip('\\n').split('\\t')\n",
    "       \n",
    "        sentences.append(sentence.replace(' ','').replace('<SP>',' '))\n",
    "        tags.append(tag.replace('<SP>',''))\n",
    "\n",
    "    sentence_token = []\n",
    "    for sentence in sentences:\n",
    "        sentence_token.append(sentence.split())\n",
    "\n",
    "    tag_token = []\n",
    "    for tag in tags:\n",
    "        tag_token.append(tag.split())\n",
    "    \n",
    "    sentence = list(map(' '.join, sentence_token))\n",
    "    morph_token = list(map(lambda x: okt.morphs(x), sentence))\n",
    "\n",
    "    return morph_token, tag_token"
   ]
  },
  {
   "cell_type": "code",
   "execution_count": 22,
   "metadata": {},
   "outputs": [
    {
     "output_type": "stream",
     "name": "stderr",
     "text": [
      "100%|██████████| 7319/7319 [00:00<00:00, 121955.83it/s]\n",
      "100%|██████████| 995/995 [00:00<00:00, 247852.03it/s]\n"
     ]
    }
   ],
   "source": [
    "train_token, train_tag = getToken(\"./data/ner_train.txt\") \n",
    "dev_token, dev_tag = getToken(\"./data/ner_dev.txt\")"
   ]
  },
  {
   "cell_type": "code",
   "execution_count": 42,
   "metadata": {},
   "outputs": [],
   "source": [
    "import pickle \n",
    "with open('./data/train_token.pickle', 'wb') as fs:\n",
    "    pickle.dump(train_token, fs)\n",
    "\n",
    "with open('./data/train_tag.pickle', 'wb') as fs:\n",
    "    pickle.dump(train_tag, fs)\n",
    "\n",
    "with open('./data/dev_token.pickle', 'wb') as fs:\n",
    "    pickle.dump(dev_token, fs)\n",
    "\n",
    "with open('./data/dev_tag.pickle', 'wb') as fs:\n",
    "    pickle.dump(dev_tag, fs)"
   ]
  }
 ]
}