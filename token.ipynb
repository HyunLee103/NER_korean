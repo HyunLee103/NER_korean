{
 "metadata": {
  "language_info": {
   "codemirror_mode": {
    "name": "ipython",
    "version": 3
   },
   "file_extension": ".py",
   "mimetype": "text/x-python",
   "name": "python",
   "nbconvert_exporter": "python",
   "pygments_lexer": "ipython3",
   "version": "3.8.3-final"
  },
  "orig_nbformat": 2,
  "kernelspec": {
   "name": "python3",
   "display_name": "Python 3"
  }
 },
 "nbformat": 4,
 "nbformat_minor": 2,
 "cells": [
  {
   "source": [
    "Test token & tags 만들기\n"
   ],
   "cell_type": "markdown",
   "metadata": {}
  },
  {
   "cell_type": "code",
   "execution_count": 33,
   "metadata": {},
   "outputs": [],
   "source": [
    "\n",
    "# 토큰 만드는 함수\n",
    "from tqdm import tqdm\n",
    "from konlpy.tag import Okt\n",
    "okt = Okt()\n",
    "from eunjeon import Mecab\n",
    "mecab = Mecab()\n",
    "\n",
    "def getToken(file):\n",
    "    with open(file, 'r', encoding='utf-8') as fs:\n",
    "        total_data = fs.readlines()\n",
    "\n",
    "    sentences = []\n",
    "    tags = []\n",
    "    for data in tqdm(total_data):\n",
    "        try:\n",
    "            id, sentence, tag = data.rstrip('\\n').split('\\t')\n",
    "        except:\n",
    "            id, sentence = data.rstrip('\\n').split('\\t')\n",
    "       \n",
    "        sentences.append(sentence.replace(' ','').replace('<SP>',' '))\n",
    "        tags.append(tag.replace('<SP>',''))\n",
    "\n",
    "    sentence_token = []\n",
    "    for sentence in sentences:\n",
    "        sentence_token.append(sentence.split())\n",
    "\n",
    "    tag_token = []\n",
    "    for tag in tags:\n",
    "        tag_token.append(tag.split())\n",
    "    \n",
    "    sentence = list(map(' '.join, sentence_token))\n",
    "    morph_token = list(map(lambda x: mecab.morphs(x), sentence))\n",
    "\n",
    "    return morph_token, tag_token"
   ]
  },
  {
   "cell_type": "code",
   "execution_count": 119,
   "metadata": {},
   "outputs": [],
   "source": [
    "from tqdm import tqdm\n",
    "from konlpy.tag import Okt\n",
    "okt = Okt()\n",
    "from eunjeon import Mecab\n",
    "mecab = Mecab()\n",
    "\n",
    "def getToken_with_sp(file):\n",
    "    with open(file, 'r', encoding='utf-8') as fs:\n",
    "        total_data = fs.readlines()\n",
    "\n",
    "    sentences = []\n",
    "    tags = []\n",
    "    for data in tqdm(total_data):\n",
    "        id, sentence, tag = data.rstrip('\\n').split('\\t')\n",
    "        sentences.append(sentence.replace(' ','').replace('<SP>', ' <SP> '))\n",
    "        tags.append(tag)\n",
    "\n",
    "    morph_token = []\n",
    "    for sentence in sentences:\n",
    "        token_with_sp = sentence.split()\n",
    "        \n",
    "        for ind, word in enumerate(token_with_sp):\n",
    "            if word != '<SP>':\n",
    "                morph = mecab.morphs(word)\n",
    "                token_with_sp[ind] = morph\n",
    "            else:\n",
    "                token_with_sp[ind] = ['<SP>']\n",
    "        \n",
    "        token_with_sp = [y for x in token_with_sp for y in x]\n",
    "        morph_token.append(token_with_sp)\n",
    "\n",
    "    tag_token = []\n",
    "    for tag in tags:\n",
    "        tag_token.append(tag.split())\n",
    "\n",
    "    return morph_token, tag_token"
   ]
  },
  {
   "cell_type": "code",
   "execution_count": 120,
   "metadata": {},
   "outputs": [],
   "source": [
    "def getPos_with_sp(file):\n",
    "    with open(file, 'r', encoding='utf-8') as fs:\n",
    "        total_data = fs.readlines()\n",
    "\n",
    "    sentences = []\n",
    "    for data in tqdm(total_data):\n",
    "        id, sentence, tag = data.rstrip('\\n').split('\\t')\n",
    "        sentences.append(sentence.replace(' ','').replace('<SP>', ' <SP> '))\n",
    "\n",
    "    pos_token = []\n",
    "    for sentence in sentences:\n",
    "        pos_with_sp = sentence.split()\n",
    "        \n",
    "        for ind, word in enumerate(pos_with_sp):\n",
    "            if word != '<SP>':\n",
    "                morph_pos = mecab.pos(word)\n",
    "                pos = [pos for morph, pos in morph_pos]\n",
    "                pos_with_sp[ind] = pos\n",
    "            else:\n",
    "                pos_with_sp[ind] = ['<SP>']\n",
    "        \n",
    "        pos_with_sp = [y for x in pos_with_sp for y in x]\n",
    "        pos_token.append(pos_with_sp)\n",
    "\n",
    "    return pos_token"
   ]
  },
  {
   "cell_type": "code",
   "execution_count": 107,
   "metadata": {},
   "outputs": [
    {
     "output_type": "stream",
     "name": "stderr",
     "text": [
      "100%|██████████| 7319/7319 [00:00<00:00, 140718.26it/s]\n",
      "100%|██████████| 995/995 [00:00<00:00, 124621.73it/s]\n"
     ]
    }
   ],
   "source": [
    "train_token, train_tag = getToken_with_sp('./data/ner_train.txt')\n",
    "dev_token, dev_tag = getToken_with_sp('./data/ner_dev.txt')"
   ]
  },
  {
   "cell_type": "code",
   "execution_count": 121,
   "metadata": {},
   "outputs": [
    {
     "output_type": "stream",
     "name": "stderr",
     "text": [
      "100%|██████████| 7319/7319 [00:00<00:00, 281293.40it/s]\n",
      "100%|██████████| 995/995 [00:00<00:00, 329933.79it/s]\n"
     ]
    }
   ],
   "source": [
    "train_pos = getPos_with_sp('./data/ner_train.txt')\n",
    "dev_pos = getPos_with_sp('./data/ner_dev.txt')"
   ]
  },
  {
   "cell_type": "code",
   "execution_count": 115,
   "metadata": {},
   "outputs": [],
   "source": [
    "import pickle \n",
    "with open('./data/train_token.pickle', 'wb') as fs:\n",
    "    pickle.dump(train_token, fs)\n",
    "\n",
    "with open('./data/train_tag.pickle', 'wb') as fs:\n",
    "    pickle.dump(train_tag, fs)\n",
    "\n",
    "with open('./data/dev_token.pickle', 'wb') as fs:\n",
    "    pickle.dump(dev_token, fs)\n",
    "\n",
    "with open('./data/dev_tag.pickle', 'wb') as fs:\n",
    "    pickle.dump(dev_tag, fs)"
   ]
  },
  {
   "cell_type": "code",
   "execution_count": 125,
   "metadata": {},
   "outputs": [],
   "source": [
    "with open('./data/train_pos.pickle', 'wb') as fs:\n",
    "    pickle.dump(train_pos, fs)\n",
    "\n",
    "with open('./data/dev_pos.pickle', 'wb') as fs:\n",
    "    pickle.dump(dev_pos, fs)"
   ]
  },
  {
   "cell_type": "code",
   "execution_count": 118,
   "metadata": {},
   "outputs": [
    {
     "output_type": "stream",
     "name": "stdout",
     "text": [
      "['새벽', '출조', '시', '<SP>', '야영', '적극', '<SP>', '권장', '하', 'ㅂ니다', '<SP>', '.']\n['B_TI', 'I_TI', 'O', 'O', 'O', '<SP>', 'O', 'O', 'O', 'O', '<SP>', 'O', 'O', 'O', 'O', 'O', 'O', '<SP>', 'O']\n"
     ]
    }
   ],
   "source": [
    "print(train_token[0])\n",
    "print(train_tag[0])\n",
    "# print(dev_token[0])\n",
    "# print(dev_tag[0])"
   ]
  }
 ]
}