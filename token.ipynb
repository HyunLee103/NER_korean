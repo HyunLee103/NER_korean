{
 "metadata": {
  "language_info": {
   "codemirror_mode": {
    "name": "ipython",
    "version": 3
   },
   "file_extension": ".py",
   "mimetype": "text/x-python",
   "name": "python",
   "nbconvert_exporter": "python",
   "pygments_lexer": "ipython3",
   "version": "3.7.7-final"
  },
  "orig_nbformat": 2,
  "kernelspec": {
   "name": "python3",
   "display_name": "Python 3"
  }
 },
 "nbformat": 4,
 "nbformat_minor": 2,
 "cells": [
  {
   "source": [
    "Test token & tags 만들기\n"
   ],
   "cell_type": "markdown",
   "metadata": {}
  },
  {
   "cell_type": "code",
   "execution_count": 50,
   "metadata": {},
   "outputs": [],
   "source": [
    "def getToken(file):\n",
    "    with open(file, 'r', encoding='utf-8') as fs:\n",
    "        total_data = fs.readlines()\n",
    "\n",
    "    sentences = []\n",
    "    tags = []\n",
    "    for data in total_data:\n",
    "        Id, sentence, tag = data.rstrip('\\n').split('\\t')\n",
    "        sentences.append(sentence.replace(' ','').replace('<SP>',' '))\n",
    "        tags.append(tag.replace('<SP>',''))\n",
    "\n",
    "    sentence_token = []\n",
    "    for sentence in sentences:\n",
    "        sentence_token.append(sentence.split())\n",
    "\n",
    "    tag_token = []\n",
    "    for tag in tags:\n",
    "        tag_token.append(tag.split())\n",
    "\n",
    "    return sentence_token, tag_token"
   ]
  },
  {
   "cell_type": "code",
   "execution_count": 47,
   "metadata": {},
   "outputs": [],
   "source": [
    "train_token, train_tag = getToken(\"./data/ner_train.txt\") \n",
    "dev_token, dev_tag = getToken(\"./data/ner_dev.txt\")"
   ]
  },
  {
   "cell_type": "code",
   "execution_count": 49,
   "metadata": {},
   "outputs": [
    {
     "output_type": "execute_result",
     "data": {
      "text/plain": [
       "16"
      ]
     },
     "metadata": {},
     "execution_count": 49
    }
   ],
   "source": [
    "len(train_tag[0])"
   ]
  },
  {
   "cell_type": "code",
   "execution_count": 42,
   "metadata": {},
   "outputs": [],
   "source": [
    "import pickle \n",
    "with open('./data/train_token.pickle', 'wb') as fs:\n",
    "    pickle.dump(train_token, fs)\n",
    "\n",
    "with open('./data/train_tag.pickle', 'wb') as fs:\n",
    "    pickle.dump(train_tag, fs)\n",
    "\n",
    "with open('./data/dev_token.pickle', 'wb') as fs:\n",
    "    pickle.dump(dev_token, fs)\n",
    "\n",
    "with open('./data/dev_tag.pickle', 'wb') as fs:\n",
    "    pickle.dump(dev_tag, fs)"
   ]
  }
 ]
}