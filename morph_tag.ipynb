{
 "metadata": {
  "language_info": {
   "codemirror_mode": {
    "name": "ipython",
    "version": 3
   },
   "file_extension": ".py",
   "mimetype": "text/x-python",
   "name": "python",
   "nbconvert_exporter": "python",
   "pygments_lexer": "ipython3",
   "version": 3
  },
  "orig_nbformat": 2
 },
 "nbformat": 4,
 "nbformat_minor": 2,
 "cells": [
  {
   "cell_type": "code",
   "execution_count": null,
   "metadata": {},
   "outputs": [],
   "source": [
    "def getMorphTag(morph_list, tag):\n",
    "    output = []\n",
    "\n",
    "    for ind, lst in enumerate(morph_list):\n",
    "        tag_for_morph = []\n",
    "        start = 0\n",
    "        for morph in lst:\n",
    "            end = start+len(morph)\n",
    "            tag_mapped = tag[ind][start:end]\n",
    "            \n",
    "            if 'O' in tag_mapped:\n",
    "                tag_for_morph.append('O')\n",
    "            else:\n",
    "                tag_for_morph.append(tag_mapped[0][2:])\n",
    "\n",
    "            start += len(morph)\n",
    "        output.append(tag_for_morph)\n",
    "\n",
    "    return output\n",
    "\n",
    "train_morph_tag = getMorphTag(train_morph, train_tag)\n",
    "dev_morph_tag = getMorphTag(dev_morph, dev_tag)"
   ]
  }
 ]
}