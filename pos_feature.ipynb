{
 "metadata": {
  "language_info": {
   "codemirror_mode": {
    "name": "ipython",
    "version": 3
   },
   "file_extension": ".py",
   "mimetype": "text/x-python",
   "name": "python",
   "nbconvert_exporter": "python",
   "pygments_lexer": "ipython3",
   "version": "3.8.3-final"
  },
  "orig_nbformat": 2,
  "kernelspec": {
   "name": "python3",
   "display_name": "Python 3"
  }
 },
 "nbformat": 4,
 "nbformat_minor": 2,
 "cells": [
  {
   "source": [
    "Data 불러와서 나누기"
   ],
   "cell_type": "markdown",
   "metadata": {}
  },
  {
   "cell_type": "code",
   "execution_count": 2,
   "metadata": {},
   "outputs": [],
   "source": [
    "import pickle\n",
    "with open('./data/train_token.pickle', 'rb') as fs:\n",
    "    train_token = pickle.load(fs)\n",
    "with open('./data/dev_token.pickle', 'rb') as fs:\n",
    "    dev_token = pickle.load(fs)\n",
    "with open('./data/train_pos.pickle', 'rb') as fs:\n",
    "    train_pos = pickle.load(fs)\n",
    "with open('./data/dev_pos.pickle', 'rb') as fs:\n",
    "    dev_pos = pickle.load(fs)"
   ]
  },
  {
   "source": [
    "pos_vocab 만들기"
   ],
   "cell_type": "markdown",
   "metadata": {}
  },
  {
   "source": [],
   "cell_type": "markdown",
   "metadata": {}
  },
  {
   "cell_type": "code",
   "execution_count": 78,
   "metadata": {},
   "outputs": [],
   "source": [
    "pos_vocab = ['NNG', 'NNP', 'NNB', 'NNBC', 'NR', 'NP', 'VV', 'VA', 'VX', 'VCP', 'VCN', 'MM', 'MAG', 'MAJ', 'IC', 'JKS', 'JKC', 'JKG', 'JKO', 'JKB', 'JKV', 'JKQ', 'JX', 'JC', 'EP', 'EF', 'EC', 'ETN', 'ETM', 'XPN', 'XSN', 'XSV', 'XSA', 'XR', 'SF', 'SE', 'SSO', 'SSC', 'SC', 'SY'\t, 'SL', 'SH', 'SN', 'OTHER', 'UNKNOWN', '<SP>']"
   ]
  },
  {
   "cell_type": "code",
   "execution_count": 55,
   "metadata": {},
   "outputs": [],
   "source": [
    "# pos_vocab = ['Noun', 'Verb', 'Adjective', 'Determiner', 'Adverb', 'Conjunction', 'Exclamation', 'Josa', 'PreEomi', 'Eomi', 'Suffix', 'Punctuation', 'Foreign', 'Alpha', 'Number', 'Unknown', 'KoreanParticle', 'Hashtag', 'ScreenName', 'Email', 'URL']\n",
    "\n",
    "# train, dev 데이터에서 품사 집합 구해서 pos_vocab에 추가\n",
    "# pos_set_train = set([y for x in train_pos for y in x])\n",
    "# pos_set_dev = set([y for x in dev_pos for y in x])\n",
    "# pos_set = list(pos_set_train | pos_set_dev)\n",
    "# vocab = sorted(list(set(vocab) | set(pos_set)))"
   ]
  },
  {
   "source": [
    "One_hot 벡터 만들기"
   ],
   "cell_type": "markdown",
   "metadata": {}
  },
  {
   "cell_type": "code",
   "execution_count": 79,
   "metadata": {},
   "outputs": [],
   "source": [
    "def posOnehot(sentence, vocab):\n",
    "    import numpy as np\n",
    "\n",
    "    onehot_list = []\n",
    "    for word in sentence:\n",
    "        onehot = np.zeros(len(vocab))\n",
    "\n",
    "        if word in vocab:\n",
    "            ind = vocab.index(word)\n",
    "            onehot[ind] += 1 \n",
    "        elif '+' in word:\n",
    "            onehot[vocab.index('OTHER')] += 1\n",
    "        else:\n",
    "            onehot[vocab.index('UNKNOWN')] += 1\n",
    "            \n",
    "        onehot_list.append(onehot)\n",
    "    return onehot_list\n",
    "\n",
    "train_onehot = [posOnehot(pos, pos_vocab) for pos in train_pos]\n",
    "dev_onehot = [posOnehot(pos, pos_vocab) for pos in dev_pos]"
   ]
  },
  {
   "cell_type": "code",
   "execution_count": 143,
   "metadata": {},
   "outputs": [],
   "source": [
    "def makePosDict(token, key_list, onehot_vector):\n",
    "    output = {}\n",
    "    for i, sentence in enumerate(token):\n",
    "        for j, word in enumerate(sentence):\n",
    "            key = key_list[key_list.index(word)]\n",
    "            output[key] = onehot_vector[i][j]\n",
    "    return output\n",
    "\n",
    "key_list_train = list(set([y for x in train_token for y in x]))\n",
    "key_list_dev = list(set([y for x in dev_token for y in x]))\n",
    "\n",
    "train_dict = makePosDict(train_token, key_list_train, train_onehot)\n",
    "dev_dict = makePosDict(dev_token, key_list_dev, dev_onehot) "
   ]
  },
  {
   "cell_type": "code",
   "execution_count": 145,
   "metadata": {
    "tags": []
   },
   "outputs": [],
   "source": [
    "with open('train_dict_sp.pickle', 'wb') as fs:\n",
    "    pickle.dump(train_dict, fs)\n",
    "with open('dev_dict_sp.pickle', 'wb') as fs:\n",
    "    pickle.dump(dev_dict, fs)"
   ]
  }
 ]
}